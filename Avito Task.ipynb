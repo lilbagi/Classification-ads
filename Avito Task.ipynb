{
 "cells": [
  {
   "cell_type": "code",
   "execution_count": 79,
   "metadata": {},
   "outputs": [],
   "source": [
    "#импортируем необходимые библиотеки \n",
    "import pandas as pd #для обработки и представления данных \n",
    "import nltk #обработка слов и ведение их статистики\n",
    "import numpy as np #манипуляции с матрицами \n",
    "from scipy.sparse import hstack #склейка матриц\n",
    "from sklearn.feature_extraction.text import TfidfVectorizer #кодирование текстовой информации\n",
    "from sklearn.model_selection import KFold, cross_val_score #перекретсная проверка\n",
    "from sklearn.linear_model import LogisticRegression #логистическая регрессия \n",
    "from sklearn.metrics import accuracy_score #метрика качества \n",
    "from sklearn.model_selection import train_test_split #разбиение выборки\n",
    "import lightgbm as lgb #эффективный алгоритм грудиентного бустинга"
   ]
  },
  {
   "cell_type": "code",
   "execution_count": 65,
   "metadata": {},
   "outputs": [
    {
     "data": {
      "text/html": [
       "<div>\n",
       "<style scoped>\n",
       "    .dataframe tbody tr th:only-of-type {\n",
       "        vertical-align: middle;\n",
       "    }\n",
       "\n",
       "    .dataframe tbody tr th {\n",
       "        vertical-align: top;\n",
       "    }\n",
       "\n",
       "    .dataframe thead th {\n",
       "        text-align: right;\n",
       "    }\n",
       "</style>\n",
       "<table border=\"1\" class=\"dataframe\">\n",
       "  <thead>\n",
       "    <tr style=\"text-align: right;\">\n",
       "      <th></th>\n",
       "      <th>item_id</th>\n",
       "      <th>title</th>\n",
       "      <th>description</th>\n",
       "      <th>price</th>\n",
       "      <th>category_id</th>\n",
       "    </tr>\n",
       "  </thead>\n",
       "  <tbody>\n",
       "    <tr>\n",
       "      <th>0</th>\n",
       "      <td>0</td>\n",
       "      <td>Картина</td>\n",
       "      <td>Гобелен. Размеры 139х84см.</td>\n",
       "      <td>1000.0</td>\n",
       "      <td>19</td>\n",
       "    </tr>\n",
       "    <tr>\n",
       "      <th>1</th>\n",
       "      <td>1</td>\n",
       "      <td>Стулья из прессованной кожи</td>\n",
       "      <td>Продам недорого 4 стула из светлой прессованно...</td>\n",
       "      <td>1250.0</td>\n",
       "      <td>22</td>\n",
       "    </tr>\n",
       "    <tr>\n",
       "      <th>2</th>\n",
       "      <td>2</td>\n",
       "      <td>Домашняя мини баня</td>\n",
       "      <td>Мини баня МБ-1(мини сауна), предназначена для ...</td>\n",
       "      <td>13000.0</td>\n",
       "      <td>37</td>\n",
       "    </tr>\n",
       "    <tr>\n",
       "      <th>3</th>\n",
       "      <td>3</td>\n",
       "      <td>Эксклюзивная коллекция книг \"Трансаэро\" + подарок</td>\n",
       "      <td>Продам эксклюзивную коллекцию книг, выпущенную...</td>\n",
       "      <td>4000.0</td>\n",
       "      <td>43</td>\n",
       "    </tr>\n",
       "    <tr>\n",
       "      <th>4</th>\n",
       "      <td>4</td>\n",
       "      <td>Ноутбук aser</td>\n",
       "      <td>Продаётся ноутбук ACER e5-511C2TA. Куплен в ко...</td>\n",
       "      <td>19000.0</td>\n",
       "      <td>1</td>\n",
       "    </tr>\n",
       "  </tbody>\n",
       "</table>\n",
       "</div>"
      ],
      "text/plain": [
       "   item_id                                              title  \\\n",
       "0        0                                            Картина   \n",
       "1        1                        Стулья из прессованной кожи   \n",
       "2        2                                 Домашняя мини баня   \n",
       "3        3  Эксклюзивная коллекция книг \"Трансаэро\" + подарок   \n",
       "4        4                                       Ноутбук aser   \n",
       "\n",
       "                                         description    price  category_id  \n",
       "0                         Гобелен. Размеры 139х84см.   1000.0           19  \n",
       "1  Продам недорого 4 стула из светлой прессованно...   1250.0           22  \n",
       "2  Мини баня МБ-1(мини сауна), предназначена для ...  13000.0           37  \n",
       "3  Продам эксклюзивную коллекцию книг, выпущенную...   4000.0           43  \n",
       "4  Продаётся ноутбук ACER e5-511C2TA. Куплен в ко...  19000.0            1  "
      ]
     },
     "execution_count": 65,
     "metadata": {},
     "output_type": "execute_result"
    }
   ],
   "source": [
    "#считывание данных в dataframe\n",
    "data = pd.read_csv(\"train.csv\")\n",
    "categories = pd.read_csv(\"category.csv\")\n",
    "data.head()"
   ]
  },
  {
   "cell_type": "code",
   "execution_count": 3,
   "metadata": {},
   "outputs": [
    {
     "data": {
      "text/plain": [
       "0                            Гобелен. Размеры 139х84см.\n",
       "1     Продам недорого 4 стула из светлой прессованно...\n",
       "2     Мини баня МБ-1(мини сауна), предназначена для ...\n",
       "3     Продам эксклюзивную коллекцию книг, выпущенную...\n",
       "4     Продаётся ноутбук ACER e5-511C2TA. Куплен в ко...\n",
       "5             Состояние хорошее. Имеется теплый чехол .\n",
       "6     Смесь молочная адаптированная ультрапастеризов...\n",
       "7     Часы абсолютно новые! с коробкой. Часы   Китай...\n",
       "8     Санатории Белоруссии! -  «Лепельский военный» ...\n",
       "9     Фотохолст на подрамнике. 36х58см. Галерейная н...\n",
       "10        В хорошем состоянии,тёмно-коричневый цвет.Юмр\n",
       "11    Игрушка playGro, б/у, состояние отличное. (Вид...\n",
       "12    Кроватка для новорожденного регулируется в 2 п...\n",
       "13    Продам утяжелители поясные новые, 2 кг. 400р. ...\n",
       "14                   продам люстру,в отличном состоянии\n",
       "15    Семена фацелии-отличный медонос,нетребовательн...\n",
       "16    В хорошем состоянии . С полочками .105 на 50 С...\n",
       "17    Продам деревообрабатывающий станок . На интере...\n",
       "18    Продам нашу любимую колясочку Bebecar IP-OP 3в...\n",
       "19            Продаю пальто надеялась несколько раз...)\n",
       "Name: description, dtype: object"
      ]
     },
     "execution_count": 3,
     "metadata": {},
     "output_type": "execute_result"
    }
   ],
   "source": [
    "#вывод описания первых 20 объявлений для примерного представления\n",
    "data[\"description\"][:20]"
   ]
  },
  {
   "cell_type": "code",
   "execution_count": 4,
   "metadata": {},
   "outputs": [],
   "source": [
    "#функция для обработки текста, все, что не является буквами русского или латинского алфавита или числами, заменяется на пробел\n",
    "def text_transform(text: pd.Series) -> pd.Series:\n",
    "    return text.str.lower().replace(\"[^а-яА-Яa-zA-Z0-9]\", \" \", regex=True)"
   ]
  },
  {
   "cell_type": "code",
   "execution_count": 24,
   "metadata": {},
   "outputs": [],
   "source": [
    "#здесь в векторайзер на н-граммах(для небольшой оценки контекста), max_df убирает самые популярные слова, \n",
    "#встречающиеся в 95 процентах объявлений, min_df наоборот убирает редкие, stop_words также наиболее часто используемые \n",
    "#vectorizer_with_bounds = TfidfVectorizer(ngram_range = (1, 2), max_df=0.95, min_df=0.05, stop_words=[\"english\",\"russian\"])\n",
    "#X_train_text_descr = vectorizer_with_bounds.fit_transform(text_transform(data[\"description\"]))\n",
    "#X_train_text_title = vectorizer2.fit_transform(text_transform(data[\"title\"]))"
   ]
  },
  {
   "cell_type": "code",
   "execution_count": 66,
   "metadata": {},
   "outputs": [],
   "source": [
    "#здесь почти такое же преобразование слов в признаки, кроме min_df. В данном задании оказалось лучше не убирать редкие слова \n",
    "vect1 = TfidfVectorizer(ngram_range = (1, 2), max_df=0.95, stop_words=[\"english\",\"russian\"]) \n",
    "X_train_text_descr = vect1.fit_transform(text_transform(data[\"description\"])) #преобразование описаний(кодирование слов)\n",
    "vect2 = TfidfVectorizer(ngram_range = (1, 2), max_df=0.95, stop_words=[\"english\",\"russian\"])\n",
    "X_train_text_title = vect2.fit_transform(text_transform(data[\"title\"])) #преобразование названий объявлений "
   ]
  },
  {
   "cell_type": "code",
   "execution_count": 67,
   "metadata": {},
   "outputs": [
    {
     "data": {
      "text/plain": [
       "array([[ 1000.],\n",
       "       [ 1250.],\n",
       "       [13000.],\n",
       "       ...,\n",
       "       [ 2900.],\n",
       "       [  300.],\n",
       "       [19000.]])"
      ]
     },
     "execution_count": 67,
     "metadata": {},
     "output_type": "execute_result"
    }
   ],
   "source": [
    "X_train = hstack([X_train_text_descr, X_train_text_title]) #соединение по горизонтали двух матриц слов\n",
    "X_train_price = data[\"price\"].values.reshape(-1,1) #извлечение цен в матрицу и переворот в вертикаль\n",
    "X_train_price"
   ]
  },
  {
   "cell_type": "code",
   "execution_count": 68,
   "metadata": {},
   "outputs": [],
   "source": [
    "X_train = hstack([X_train, X_train_price]) #финальное соединение матриц слов и массива цен в общую, готовую для обучения,выборку"
   ]
  },
  {
   "cell_type": "code",
   "execution_count": 69,
   "metadata": {},
   "outputs": [],
   "source": [
    "y_train = data[\"category_id\"] #извлечение категорий товаров"
   ]
  },
  {
   "cell_type": "code",
   "execution_count": 70,
   "metadata": {},
   "outputs": [],
   "source": [
    "#разбиение выборки на тренировочную и тестовую в пропорциях по умолчанию(0.75 тренировочная 0.25 тестовая) с перемешиванием\n",
    "X_tr, X_ts, y_tr, y_ts = train_test_split(X_train,y_train, random_state = 42, shuffle=True)"
   ]
  },
  {
   "cell_type": "code",
   "execution_count": 72,
   "metadata": {},
   "outputs": [
    {
     "name": "stdout",
     "output_type": "stream",
     "text": [
      "0.85\n"
     ]
    }
   ],
   "source": [
    "lgbm = lgb.LGBMClassifier() #создание объекта классификатора \n",
    "lgbm.fit(X_tr, y_tr) #обучение модели\n",
    "y_pr = lgbm.predict(X_ts) #предсказывание моделью на тестовой выборке\n",
    "print(\"%.2f\" % accuracy_score(y_ts, y_pr)) #вычисление качества метрикой accuracy\n",
    "                                           #сравнение предсказанных моделью и правильных ответов"
   ]
  },
  {
   "cell_type": "code",
   "execution_count": 12,
   "metadata": {},
   "outputs": [
    {
     "data": {
      "text/html": [
       "<div>\n",
       "<style scoped>\n",
       "    .dataframe tbody tr th:only-of-type {\n",
       "        vertical-align: middle;\n",
       "    }\n",
       "\n",
       "    .dataframe tbody tr th {\n",
       "        vertical-align: top;\n",
       "    }\n",
       "\n",
       "    .dataframe thead th {\n",
       "        text-align: right;\n",
       "    }\n",
       "</style>\n",
       "<table border=\"1\" class=\"dataframe\">\n",
       "  <thead>\n",
       "    <tr style=\"text-align: right;\">\n",
       "      <th></th>\n",
       "      <th>item_id</th>\n",
       "      <th>title</th>\n",
       "      <th>description</th>\n",
       "      <th>price</th>\n",
       "    </tr>\n",
       "  </thead>\n",
       "  <tbody>\n",
       "    <tr>\n",
       "      <th>0</th>\n",
       "      <td>489517</td>\n",
       "      <td>Стоик журнальный сталь</td>\n",
       "      <td>продам журнальный столик изготавливаю столы из...</td>\n",
       "      <td>10000.0</td>\n",
       "    </tr>\n",
       "    <tr>\n",
       "      <th>1</th>\n",
       "      <td>489518</td>\n",
       "      <td>iPhone 5 64Gb</td>\n",
       "      <td>Телефон в хорошем состоянии. Комплект, гаранти...</td>\n",
       "      <td>12500.0</td>\n",
       "    </tr>\n",
       "    <tr>\n",
       "      <th>2</th>\n",
       "      <td>489519</td>\n",
       "      <td>Утеплитель</td>\n",
       "      <td>ТЕПЛОПЕЛЕН-ЛИДЕР ТЕПЛА!!! Толщина утеплителя :...</td>\n",
       "      <td>250.0</td>\n",
       "    </tr>\n",
       "    <tr>\n",
       "      <th>3</th>\n",
       "      <td>489520</td>\n",
       "      <td>Пальто демисезонное</td>\n",
       "      <td>Продам пальто женское (букле) в отличном состо...</td>\n",
       "      <td>1700.0</td>\n",
       "    </tr>\n",
       "    <tr>\n",
       "      <th>4</th>\n",
       "      <td>489521</td>\n",
       "      <td>Samsung syncmaster T200N</td>\n",
       "      <td>Условно рабочий, проблема в панели настройки м...</td>\n",
       "      <td>1000.0</td>\n",
       "    </tr>\n",
       "  </tbody>\n",
       "</table>\n",
       "</div>"
      ],
      "text/plain": [
       "   item_id                     title  \\\n",
       "0   489517    Стоик журнальный сталь   \n",
       "1   489518             iPhone 5 64Gb   \n",
       "2   489519                Утеплитель   \n",
       "3   489520       Пальто демисезонное   \n",
       "4   489521  Samsung syncmaster T200N   \n",
       "\n",
       "                                         description    price  \n",
       "0  продам журнальный столик изготавливаю столы из...  10000.0  \n",
       "1  Телефон в хорошем состоянии. Комплект, гаранти...  12500.0  \n",
       "2  ТЕПЛОПЕЛЕН-ЛИДЕР ТЕПЛА!!! Толщина утеплителя :...    250.0  \n",
       "3  Продам пальто женское (букле) в отличном состо...   1700.0  \n",
       "4  Условно рабочий, проблема в панели настройки м...   1000.0  "
      ]
     },
     "execution_count": 12,
     "metadata": {},
     "output_type": "execute_result"
    }
   ],
   "source": [
    "data_test = pd.read_csv(\"test.csv\") #считывание csv файла в новый dataframe\n",
    "data_test.head()"
   ]
  },
  {
   "cell_type": "code",
   "execution_count": 13,
   "metadata": {},
   "outputs": [],
   "source": [
    "#Такая же процедура обработки тестовых данных, отличие только в используемом методе в кодировании текста\n",
    "#на тестовой выборке используется transform, а не fit_transform \n",
    "X_test_text_descr = vect1.transform(text_transform(data_test[\"description\"]))\n",
    "X_test_text_title = vect2.transform(text_transform(data_test[\"title\"]))\n",
    "X_test = hstack([X_test_text_descr, X_test_text_title])\n",
    "X_test_price = data_test[\"price\"].values.reshape(-1,1)\n",
    "X_test = hstack([X_test, X_test_price])"
   ]
  },
  {
   "cell_type": "code",
   "execution_count": 14,
   "metadata": {},
   "outputs": [
    {
     "name": "stderr",
     "output_type": "stream",
     "text": [
      "C:\\ProgramData\\Anaconda3\\lib\\site-packages\\lightgbm\\basic.py:478: UserWarning: Converting data to scipy sparse matrix.\n",
      "  warnings.warn('Converting data to scipy sparse matrix.')\n"
     ]
    }
   ],
   "source": [
    "y_pred = lgbm.predict(X_test) #предсказание моделью овтетов на тестовой выборке"
   ]
  },
  {
   "cell_type": "code",
   "execution_count": 54,
   "metadata": {},
   "outputs": [
    {
     "data": {
      "text/plain": [
       "array([[489517,     22],\n",
       "       [489518,      0],\n",
       "       [489519,     15],\n",
       "       ...,\n",
       "       [732680,      7],\n",
       "       [732681,     18],\n",
       "       [732682,     29]], dtype=int64)"
      ]
     },
     "execution_count": 54,
     "metadata": {},
     "output_type": "execute_result"
    }
   ],
   "source": [
    "X_test_id = data_test[\"item_id\"].values.reshape(-1,1) #извлечение id объявлений и переворот в вертикаль\n",
    "predicted = y_pred.reshape(-1,1)\n",
    "final = np.hstack((X_test_id, predicted)) #сопоставление id объявления и полученных ответов\n",
    "final"
   ]
  },
  {
   "cell_type": "code",
   "execution_count": 52,
   "metadata": {},
   "outputs": [],
   "source": [
    "np.savetxt(\"test_.csv\", final, delimiter=\",\", fmt=\"%d\") #сохранение овтетов классификатора в файл"
   ]
  },
  {
   "cell_type": "code",
   "execution_count": 73,
   "metadata": {},
   "outputs": [],
   "source": [
    "#на данном этапе просчитывается качество на рзных уровнях иерархии \n",
    "#здесь товары разбиты на первые, наиболее общие категории (бытовая электроника, Для дома и дачи, Личные вещи, Хобби и отдых)\n",
    "y_train1 = data[\"category_id\"] #извлечение целевой переменной и последующая замена значений\n",
    "y_train1 = np.where(y_train1 < 15, 0, y_train1)  #все, что бытовая электроника заменяется на 0(там, где id категории 0-14)\n",
    "y_train1 = np.where((y_train1 > 14) & (y_train1 < 30), 1, y_train1) #все, что Для дома и дачи заменяется на 1\n",
    "y_train1 = np.where((y_train1 > 29) & (y_train1 < 42), 2, y_train1)#все, что Личные вещи заменяется на 2\n",
    "y_train1 = np.where(y_train1 > 41, 3, y_train1) #замена значений все, что Хобби и отдых заменяется на 3"
   ]
  },
  {
   "cell_type": "code",
   "execution_count": 74,
   "metadata": {},
   "outputs": [
    {
     "name": "stdout",
     "output_type": "stream",
     "text": [
      "0.88\n"
     ]
    }
   ],
   "source": [
    "X_tr1, X_ts1, y_tr1, y_ts1 = train_test_split(X_train, y_train1, random_state = 42, shuffle=True) #снова разбиение\n",
    "lgbm1 = lgb.LGBMClassifier() #создание объекта классификатора \n",
    "lgbm1.fit(X_tr1, y_tr1) #обучение модели\n",
    "y_pr1 = lgbm1.predict(X_ts1) #предсказывание моделью на тестовой выборке\n",
    "print(\"%.2f\" % accuracy_score(y_ts1, y_pr1)) #вычисление качества метрикой accuracy\n",
    "                                            #сравнение предсказанных моделью и правильных ответов"
   ]
  },
  {
   "cell_type": "code",
   "execution_count": 75,
   "metadata": {},
   "outputs": [],
   "source": [
    "#здесь товары разбиты на следующем уровне иерархии (Телефоны, Ноутбуки, .., Ремонт и строительство, .., Музыкальные инструменты)\n",
    "y_train2 = data[\"category_id\"]\n",
    "y_train2 = np.where((y_train2 == 0) | (y_train2 == 2) | (y_train2 == 6) | ((y_train2 >= 9) & (y_train2 <=11)) , 0, y_train2)\n",
    "y_train2 = np.where(y_train2 == 1, 1, y_train2)\n",
    "y_train2 = np.where(y_train2 == 3, 2, y_train2)\n",
    "y_train2 = np.where((y_train2 == 4) | (y_train2 == 8), 3, y_train2)\n",
    "y_train2 = np.where((y_train2 == 5) | (y_train2 == 12), 4, y_train2)\n",
    "y_train2 = np.where(y_train2 == 7, 5, y_train2)\n",
    "y_train2 = np.where((y_train2 == 13) | (y_train2 == 14), 6, y_train2)\n",
    "y_train2 = np.where((y_train2 == 15) | (y_train2 == 17)| (y_train2 == 21)| (y_train2 == 25), 7, y_train2)\n",
    "y_train2 = np.where((y_train2 == 16) | (y_train2 == 18)| (y_train2 == 19)| (y_train2 == 22)| (y_train2 == 23)| (y_train2 == 27)| (y_train2 == 28), 8, y_train2)\n",
    "y_train2 = np.where(y_train2 == 20, 9, y_train2)\n",
    "y_train2 = np.where(y_train2 == 24, 10, y_train2)\n",
    "y_train2 = np.where((y_train2 == 26) | (y_train2 == 29), 11, y_train2)\n",
    "y_train2 = np.where((y_train2 == 30) | (y_train2 == 32)| (y_train2 == 34)| (y_train2 == 41), 12, y_train2)\n",
    "y_train2 = np.where((y_train2 == 31) | (y_train2 == 33)| (y_train2 == 35)| (y_train2 == 38)| (y_train2 == 39), 13, y_train2)\n",
    "y_train2 = np.where((y_train2 == 36) | (y_train2 == 40), 14, y_train2)\n",
    "y_train2 = np.where(y_train2 == 37, 15, y_train2)\n",
    "y_train2 = np.where((y_train2 == 42) | (y_train2 == 46)| (y_train2 == 47), 16, y_train2)\n",
    "y_train2 = np.where((y_train2 == 43) | (y_train2 == 51), 17, y_train2)\n",
    "y_train2 = np.where((y_train2 == 44) | (y_train2 == 45), 18, y_train2)\n",
    "y_train2 = np.where(y_train2 == 48 , 19, y_train2)\n",
    "y_train2 = np.where(y_train2 == 49 , 20, y_train2)\n",
    "y_train2 = np.where((y_train2 == 50)| (y_train2 == 52), 21, y_train2)\n",
    "y_train2 = np.where(y_train2 == 53, 22, y_train2)"
   ]
  },
  {
   "cell_type": "code",
   "execution_count": 76,
   "metadata": {},
   "outputs": [
    {
     "name": "stdout",
     "output_type": "stream",
     "text": [
      "0.90\n"
     ]
    }
   ],
   "source": [
    "X_tr2, X_ts2, y_tr2, y_ts2 = train_test_split(X_train, y_train2, random_state = 42, shuffle=True) #снова разбиение\n",
    "lgbm2 = lgb.LGBMClassifier() #создание объекта классификатора\n",
    "lgbm2.fit(X_tr2, y_tr2) #обучение модели\n",
    "y_pr2 = lgbm2.predict(X_ts2) #предсказывание моделью на тестовой выборке\n",
    "print(\"%.2f\" % accuracy_score(y_ts2, y_pr2)) #вычисление качества метрикой accuracy\n",
    "                                            #сравнение предсказанных моделью и правильных ответов"
   ]
  },
  {
   "cell_type": "code",
   "execution_count": 77,
   "metadata": {},
   "outputs": [],
   "source": [
    "#на данном уровне женская одежда остается одним классом, все остальные объекты остаются в самом детальном виде\n",
    "y_train3 = data[\"category_id\"]\n",
    "y_train3 = np.where((y_train3 == 33) | (y_train3 == 35) | (y_train3 == 38) | (y_train3 == 39), 33, y_train3)"
   ]
  },
  {
   "cell_type": "code",
   "execution_count": 78,
   "metadata": {},
   "outputs": [
    {
     "name": "stdout",
     "output_type": "stream",
     "text": [
      "0.86\n"
     ]
    }
   ],
   "source": [
    "X_tr3, X_ts3, y_tr3, y_ts3 = train_test_split(X_train, y_train3, random_state = 42, shuffle=True) #снова разбиение\n",
    "lgbm3 = lgb.LGBMClassifier() #создание объекта классификатора\n",
    "lgbm3.fit(X_tr3, y_tr3) #обучение модели\n",
    "y_pr3 = lgbm3.predict(X_ts3) #предсказывание моделью на тестовой выборке\n",
    "print(\"%.2f\" % accuracy_score(y_ts3, y_pr3)) #вычисление качества метрикой accuracy\n",
    "                                            #сравнение предсказанных моделью и правильных ответов"
   ]
  },
  {
   "cell_type": "code",
   "execution_count": 26,
   "metadata": {},
   "outputs": [
    {
     "name": "stderr",
     "output_type": "stream",
     "text": [
      "C:\\Users\\Bagi\\AppData\\Roaming\\Python\\Python37\\site-packages\\sklearn\\linear_model\\logistic.py:433: FutureWarning: Default solver will be changed to 'lbfgs' in 0.22. Specify a solver to silence this warning.\n",
      "  FutureWarning)\n",
      "C:\\Users\\Bagi\\AppData\\Roaming\\Python\\Python37\\site-packages\\sklearn\\linear_model\\logistic.py:460: FutureWarning: Default multi_class will be changed to 'auto' in 0.22. Specify the multi_class option to silence this warning.\n",
      "  \"this warning.\", FutureWarning)\n"
     ]
    },
    {
     "name": "stdout",
     "output_type": "stream",
     "text": [
      "0.19154273574113417\n"
     ]
    }
   ],
   "source": [
    "lgr = LogisticRegression() #создается модель логистической регрессии\n",
    "lgr.fit(X_tr, y_tr) #обучение \n",
    "y_pr = lgr.predict(X_ts) #предсказание  \n",
    "print(accuracy_score(y_ts, y_pr)) #считаем качество\n",
    "#в самом начале для проверки использовал как быстрый и простой классификатор, не показал хорошего качества"
   ]
  },
  {
   "cell_type": "code",
   "execution_count": 4,
   "metadata": {},
   "outputs": [],
   "source": [
    "nw_data = text_transform(data[\"description\"][:10]) #первые 10 описаний объявлений"
   ]
  },
  {
   "cell_type": "code",
   "execution_count": 5,
   "metadata": {},
   "outputs": [],
   "source": [
    "#для дальнейшего улучшения качества, возможно, понадобится сбор некоторых статистик и более детальная обрабокта текста\n",
    "s = \"\"\n",
    "for line in nw_data:\n",
    "    s += line.strip() + ' '\n",
    "from nltk.corpus import stopwords\n",
    "from nltk.tokenize import word_tokenize\n",
    "tokenized = word_tokenize(s)"
   ]
  },
  {
   "cell_type": "code",
   "execution_count": 6,
   "metadata": {},
   "outputs": [
    {
     "data": {
      "text/plain": [
       "'гобелен  размеры 139х84см продам недорого 4 стула из светлой прессованной кожи  стильные  ножки дугообразные мини баня мб 1 мини сауна   предназначена для принятия тепловых процедур в бытовых условиях дома  на даче   а также в спортивных  оздоровительных  косметических  лечебных организациях и учреждениях  она оказывает общеукрепляющее и профилактическое действие на организм человека  номинальное напряжение переменного тока 220 в максимальная мощность 2000 вт максимальная температура нагретого воздуха в термочехле  градусов с  90   100 время достижения рабочей температуры 1 5 мин  время достижения максимальной температуры 10 мин  габаритные размеры тепловой камеры в рабочем состоянии  мм не более    длина 950   ширина 900   высота 1100 масса 6 3   7 3 кг мини баня станет отличным подарком как для мужчин  так и для женщин продам эксклюзивную коллекцию книг  выпущенную ограниченным тиражом по заказу авиакомпании  трансаэро   серия  детективы трансаэро    в коллекцию входит 10 книг    габорио эмиль  дело   113   честертон г  к  рассказы о патере брауне   конан дойл а  пляшущие человечки  рассказы о шерлоке холмсе   по эдгар аллан  убийство на улице морг   киплинг джозеф редьярд  ким   леблан морис  графиня калиостро   гофман э  т  а  песочный человек   стивенсон р  л  странная история доктора джекила и мистера хайда   леру г  призрак оперы   пунсон дю террайль п  а  клуб червонных валетов  роман из серии  похождения рокамболя    на всех книгах присутствует  логотип авиакомпании  тансаэро   книги абсолютно новые  в идеальнейшем состоянии  размер одной книги  11 х 17 см   книги можно приобрести как по отдельности  так и все вместе  цена одной книги  по отдельности    500 рублей  при приобретении всей коллекции из 10 книг   скидка   4000 рублей за весь комплект и  подарок  эксклюзивная  чайная  кофейная  пара   кружка и блюдце   с логотипом авиакомпании  трансаэро   фото   1   выпускались по заказу авиакомпании ограниченной серией    также имеется серия  классика мировой литературы  лучшие книги о путешествиях  из 12 книг   номер объявления  737205353   по всем вопросам пишите  звоните          варианты встречи    самовывоз с улицы наримановская    принесу к метро  преображенская площадь  или  бульвар рокоссовского     доставка до вашей станции метро   100 рублей    доставка по вашему адресу  по москве    150 рублей прода тся ноутбук acer e5 511c2ta  куплен в конце ноября   вообще не пользовались   не пригодился  подробности по телефону состояние хорошее  имеется теплый чехол смесь молочная адаптированная ультрапастеризованная  грудничок   г  зеленодольск  срок годности до 20 02 2016 года  в наличии 70 штук  цена 15 рублей  район  городского парка часы абсолютно новые  с коробкой  часы   китай  были подарены на новый год  но не понравились  приобрели другие  эти больше не нужны  стильные часы  которые подойдут любому мужчине  водонепроницаемость до 200 м   усиленный корпус  удобный каучуковый ремешок  богатый функционал                                                                                                          общие характеристики  тип  кварцевые  унисекс   способ отображения времени  аналоговый   цифровой  формат  12 24 часа  секундная стрелка  отсутствует  цифры  показывает  источник энергии  батарейка противоударные водонепроницаемые wr200  20 атм   материал корпуса  пластик   материал браслета ремешка  пластик   стекло  минеральное  габариты  шхвхт   43 4x46 3x15 8 мм  вес  44 9 г  особенности  точность хода      30 с мес  отображение даты  вечный календарь  число  месяц  день недели  спорт функции секундомер  таймер обратного отсчета  дополнительные функции  второй часовой пояс  будильник  количество установок  5   подсветка дисплея  стрелок  дополнительная информация повтор сигнала будильника  ежечасный сигнал  функция включения отключения звука кнопок  элемент питания sr726w   2  срок службы батарейки 2 года санатории белоруссии      лепельский военный   цена на человека от 1090 руб сут    пакет проживание 4 разовое питание   цена на человека от 1390 руб сут   пакет проживание 4 разовое питание лечение по назначению врача    лепельский военный санаторий расположен в 12 ти км от города лепеля  вдали от крупных населенных пунктов в живописно холмистой местности  покрытой сосновым лесом  санаторий стоит на возвышенном перешейке между двух больших глубоководных озер с чистейшей водой  большое озеро  на берегу которого находится здание столовой  пляж  лодочная станция  называется бобрица  а меньшее на противоположной стороне   щибот  общая площадь оз р составляет более 11 500 м   лепельщина   живописный уголок беларуси  на территории санатория произрастают сосна  ель  бер за  кл н  дуб  и др  территория огорожена забором  охраняется  на пляже расположены беседки для отдыха со стационарными мангалами   профиль     гинекологические заболевания   заболевания желудочно кишечного тракта   заболевания нервной системы   заболевания опорно двигательного аппарата  болезни костно мышечной системы   заболевания органов дыхания и лор органов   заболевания сердечно сосудистой системы и системы кровообращения   заболевания эндокринной системы  расстройства питания и нарушения обмена веществ  более подробную информацию можно и нужно получить у менеджера  звоните фотохолст на подрамнике  36х58см  галерейная натяжка  ширина торцевой части 4см  отлично подойдет для украшения интерьера   хороший вариант в качестве подарка  так же могу подобрать другие изображения под любой интерьер и выполнить их в любом размере  для печати использую только свои фотографии высокого качества  как ознакомиться с ними объясню по телефону  так же могу произвести печать и натяжку ваших изображений  возможно индивидуальное проектирование модульных картин  принимаю звонки в любое время '"
      ]
     },
     "execution_count": 6,
     "metadata": {},
     "output_type": "execute_result"
    }
   ],
   "source": [
    "s"
   ]
  },
  {
   "cell_type": "code",
   "execution_count": 9,
   "metadata": {},
   "outputs": [
    {
     "data": {
      "text/plain": [
       "[('в', 14),\n",
       " ('и', 14),\n",
       " ('на', 13),\n",
       " ('по', 11),\n",
       " ('с', 7),\n",
       " ('заболевания', 7),\n",
       " ('для', 6),\n",
       " ('а', 5),\n",
       " ('не', 5),\n",
       " ('книги', 5),\n",
       " ('рублей', 5),\n",
       " ('системы', 5),\n",
       " ('из', 4),\n",
       " ('так', 4),\n",
       " ('книг', 4),\n",
       " ('авиакомпании', 4),\n",
       " ('г', 4),\n",
       " ('цена', 4),\n",
       " ('от', 4),\n",
       " ('4', 3),\n",
       " ('мини', 3),\n",
       " ('1', 3),\n",
       " ('человека', 3),\n",
       " ('время', 3),\n",
       " ('10', 3),\n",
       " ('более', 3),\n",
       " ('как', 3),\n",
       " ('трансаэро', 3),\n",
       " ('о', 3),\n",
       " ('12', 3),\n",
       " ('до', 3),\n",
       " ('часы', 3),\n",
       " ('размеры', 2),\n",
       " ('продам', 2),\n",
       " ('стильные', 2),\n",
       " ('баня', 2),\n",
       " ('также', 2),\n",
       " ('максимальная', 2),\n",
       " ('100', 2),\n",
       " ('достижения', 2)]"
      ]
     },
     "execution_count": 9,
     "metadata": {},
     "output_type": "execute_result"
    }
   ],
   "source": [
    "l1 = list(map(lambda x: x.lower(), tokenized))\n",
    "d1 = nltk.FreqDist(l1)\n",
    "d1.most_common(40) #40 самых популярных слов, конечно, нужно больше текста для понимания "
   ]
  }
 ],
 "metadata": {
  "kernelspec": {
   "display_name": "Python 3",
   "language": "python",
   "name": "python3"
  },
  "language_info": {
   "codemirror_mode": {
    "name": "ipython",
    "version": 3
   },
   "file_extension": ".py",
   "mimetype": "text/x-python",
   "name": "python",
   "nbconvert_exporter": "python",
   "pygments_lexer": "ipython3",
   "version": "3.7.1"
  }
 },
 "nbformat": 4,
 "nbformat_minor": 2
}
